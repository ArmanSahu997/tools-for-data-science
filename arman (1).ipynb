{
 "cells": [
  {
   "cell_type": "markdown",
   "id": "ee00e5e6-c051-4241-af53-812c8f86c79c",
   "metadata": {},
   "source": [
    "# Data Science Tools and Ecosystem"
   ]
  },
  {
   "cell_type": "markdown",
   "id": "94089cc0-f278-4f18-9ce0-abf79239790b",
   "metadata": {},
   "source": [
    "In this notebook, I will summarize some of the key tools, libraries, and languages used in data science."
   ]
  },
  {
   "cell_type": "markdown",
   "id": "2ab38f29-fe7e-4584-be2d-586440688b1e",
   "metadata": {},
   "source": [
    "## Languages used in Data Science\n",
    "- Python\n",
    "- R\n",
    "- SQL\n",
    "- Julia\n",
    "- Scala"
   ]
  },
  {
   "cell_type": "markdown",
   "id": "60eac62b-2c68-4b12-81f6-d487da392efd",
   "metadata": {},
   "source": [
    "## Common Data Science Libraries\n",
    "- NumPy\n",
    "- Pandas\n",
    "- Matplotlib\n",
    "- Scikit-learn\n",
    "- TensorFlow\n"
   ]
  },
  {
   "cell_type": "markdown",
   "id": "6afd47b7-f87b-4d0a-92c5-36fdd7864c9c",
   "metadata": {},
   "source": [
    "## Data Science Tools\n",
    "\n",
    "| Tool           | Category      |\n",
    "|----------------|---------------|\n",
    "| Jupyter Notebook | IDE / Notebook |\n",
    "| RStudio        | IDE           |\n",
    "| Apache Spark   | Big Data Processing |\n",
    "| TensorFlow     | Deep Learning |\n"
   ]
  },
  {
   "cell_type": "markdown",
   "id": "c8b3ae2d-c8be-45fb-97a9-61737ca17f28",
   "metadata": {},
   "source": [
    "## Examples of Arithmetic Expressions\n",
    "Below, we demonstrate simple arithmetic expressions in Python.\n"
   ]
  },
  {
   "cell_type": "code",
   "execution_count": 2,
   "id": "4de90696-bdb5-418a-81d9-1a893eec38f7",
   "metadata": {},
   "outputs": [
    {
     "data": {
      "text/plain": [
       "17"
      ]
     },
     "execution_count": 2,
     "metadata": {},
     "output_type": "execute_result"
    }
   ],
   "source": [
    "# This code multiplies 3 by 4 and adds 5\n",
    "(3 * 4) + 5"
   ]
  },
  {
   "cell_type": "code",
   "execution_count": 3,
   "id": "6d78870d-3a36-47f3-bade-4e713f46dac7",
   "metadata": {},
   "outputs": [
    {
     "data": {
      "text/plain": [
       "3.3333333333333335"
      ]
     },
     "execution_count": 3,
     "metadata": {},
     "output_type": "execute_result"
    }
   ],
   "source": [
    "# Convert 200 minutes to hours\n",
    "200 / 60\n"
   ]
  },
  {
   "cell_type": "markdown",
   "id": "fa290bc7-913a-410c-b153-b43c7486a832",
   "metadata": {},
   "source": [
    "## Objectives\n",
    "\n",
    "- List popular languages in data science\n",
    "- List commonly used libraries\n",
    "- Demonstrate arithmetic operations\n",
    "- Introduce data science tools\n"
   ]
  },
  {
   "cell_type": "markdown",
   "id": "e63028dd-083b-4229-8472-9e4ce1905d51",
   "metadata": {},
   "source": [
    "## Author\n",
    "Arman Sahu"
   ]
  },
  {
   "cell_type": "code",
   "execution_count": null,
   "id": "80b3b8bd-7189-4688-ab23-e0a59e5c1482",
   "metadata": {},
   "outputs": [],
   "source": []
  }
 ],
 "metadata": {
  "kernelspec": {
   "display_name": "Python 3 (ipykernel)",
   "language": "python",
   "name": "python3"
  },
  "language_info": {
   "codemirror_mode": {
    "name": "ipython",
    "version": 3
   },
   "file_extension": ".py",
   "mimetype": "text/x-python",
   "name": "python",
   "nbconvert_exporter": "python",
   "pygments_lexer": "ipython3",
   "version": "3.12.7"
  }
 },
 "nbformat": 4,
 "nbformat_minor": 5
}
